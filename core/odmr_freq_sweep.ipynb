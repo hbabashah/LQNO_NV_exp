{
 "cells": [
  {
   "cell_type": "markdown",
   "metadata": {},
   "source": [
    "# Frequency sweep odmr"
   ]
  },
  {
   "cell_type": "markdown",
   "metadata": {},
   "source": [
    "Trying to make a script now, which is going to \n",
    "measure odmr over a range of frequencies. \n",
    "This should help to find the frequency, where the\n",
    "wire is most efficient."
   ]
  },
  {
   "cell_type": "code",
   "execution_count": 6,
   "metadata": {},
   "outputs": [],
   "source": [
    "import time"
   ]
  },
  {
   "cell_type": "code",
   "execution_count": 4,
   "metadata": {},
   "outputs": [
    {
     "name": "stderr",
     "output_type": "stream",
     "text": [
      "Traceback (most recent call last):\n",
      "  File \"D:\\LQNO_QUDI\\LQNO_NV_exp\\logic\\jupyterkernel\\qzmqkernel.py\", line 679, in run_code\n",
      "    exec(code_obj, self.user_global_ns, self.user_ns)\n",
      "  File \"<ipython-input-4-d167311a86b2>\", line 1, in <module>\n",
      "    odmrlogic.mw_start = freq\n",
      "NameError: name 'freq' is not defined\n"
     ]
    }
   ],
   "source": [
    "    def perform_odmr_measurement(self, freq_start, freq_step, freq_stop, power,\n",
    "                                 runtime, fit_function='Lorentzian',\n",
    "                                 save_after_meas=True, name_tag=''):"
   ]
  },
  {
   "cell_type": "code",
   "execution_count": 13,
   "metadata": {},
   "outputs": [],
   "source": [
    "freq_range = 0.1 * 10**(9)\n",
    "freq_step = 2 * 10**(6)\n",
    "steps = 40\n",
    "freq_sweep_start = 4.1*10**(9)\n",
    "freq_sweep_stop = 9.0 * 10**(9)\n",
    "power = -40\n",
    "runtime = 120.0\n",
    "freq_step2 = (freq_sweep_stop-freq_sweep_start)/steps\n",
    "freq_list = [freq_sweep_start + i*freq_step2 for i in range(steps+1)]\n",
    "mag_list = [(i-2.87*10**9)/(28*10**9) for i in freq_list]\n",
    "y_data = []\n",
    "x_data = []"
   ]
  },
  {
   "cell_type": "code",
   "execution_count": 26,
   "metadata": {},
   "outputs": [
    {
     "name": "stdout",
     "output_type": "stream",
     "text": [
      "<logic.odmr_logic.ODMRLogic object at 0x0000021DFD228DC8>\n"
     ]
    }
   ],
   "source": [
    "freq_step/10**6\n",
    "print(odmrlogic)"
   ]
  },
  {
   "cell_type": "code",
   "execution_count": 22,
   "metadata": {},
   "outputs": [
    {
     "name": "stderr",
     "output_type": "stream",
     "text": [
      "Traceback (most recent call last):\n",
      "  File \"D:\\LQNO_QUDI\\LQNO_NV_exp\\logic\\jupyterkernel\\qzmqkernel.py\", line 679, in run_code\n",
      "    exec(code_obj, self.user_global_ns, self.user_ns)\n",
      "  File \"<ipython-input-22-c610eed11090>\", line 8, in <module>\n",
      "    freq_vals = odmrlogic.ODMR_plot_x\n",
      "AttributeError: 'ODMRLogic' object has no attribute 'ODMR_plot_x'\n"
     ]
    }
   ],
   "source": [
    "odmrlogic.mw_start = freq\n",
    "odmrlogic.mw_start = freq\n",
    "odmrlogic.mw_step = freq_step\n",
    "odmrlogic.mw_stop = freq + freq_range\n",
    "odmrlogic.mw_power = power\n",
    "odmrlogic.run_time = runtime\n",
    "odmrlogic.start_odmr_scan()\n",
    "freq_vals = odmrlogic.ODMR_plot_x\n",
    "sig_vals = odmrlogic.ODMR_plot_y\n",
    "save_data['freq_vals'] = freq_vals\n",
    "save_data['sig_vals'] = sig_vals\n",
    "filepath = savelogic.get_path_for_module(module_name='ODMR')\n",
    "filelabel = 'ODMR_FREQ_SWEEP_' + str(freq)\n",
    "savelogic.save_data(save_data, filepath, filelabel=filelabel, as_text=True)\n",
    "\n",
    "    "
   ]
  },
  {
   "cell_type": "code",
   "execution_count": 33,
   "metadata": {},
   "outputs": [
    {
     "name": "stderr",
     "output_type": "stream",
     "text": [
      "Traceback (most recent call last):\n",
      "  File \"D:\\LQNO_QUDI\\LQNO_NV_exp\\logic\\jupyterkernel\\qzmqkernel.py\", line 679, in run_code\n",
      "    exec(code_obj, self.user_global_ns, self.user_ns)\n",
      "  File \"<ipython-input-33-1c5abfe3910f>\", line 7, in <module>\n",
      "    pl.plot(odmrlogic.odmr_plot_x,odmrlogic.odmr_plot_y)\n",
      "  File \"C:\\Users\\babashah\\AppData\\Local\\Continuum\\anaconda3\\envs\\qudi\\lib\\site-packages\\matplotlib\\pyplot.py\", line 3358, in plot\n",
      "    ret = ax.plot(*args, **kwargs)\n",
      "  File \"C:\\Users\\babashah\\AppData\\Local\\Continuum\\anaconda3\\envs\\qudi\\lib\\site-packages\\matplotlib\\__init__.py\", line 1855, in inner\n",
      "    return func(ax, *args, **kwargs)\n",
      "  File \"C:\\Users\\babashah\\AppData\\Local\\Continuum\\anaconda3\\envs\\qudi\\lib\\site-packages\\matplotlib\\axes\\_axes.py\", line 1527, in plot\n",
      "    for line in self._get_lines(*args, **kwargs):\n",
      "  File \"C:\\Users\\babashah\\AppData\\Local\\Continuum\\anaconda3\\envs\\qudi\\lib\\site-packages\\matplotlib\\axes\\_base.py\", line 406, in _grab_next_args\n",
      "    for seg in self._plot_args(this, kwargs):\n",
      "  File \"C:\\Users\\babashah\\AppData\\Local\\Continuum\\anaconda3\\envs\\qudi\\lib\\site-packages\\matplotlib\\axes\\_base.py\", line 383, in _plot_args\n",
      "    x, y = self._xy_from_xy(x, y)\n",
      "  File \"C:\\Users\\babashah\\AppData\\Local\\Continuum\\anaconda3\\envs\\qudi\\lib\\site-packages\\matplotlib\\axes\\_base.py\", line 242, in _xy_from_xy\n",
      "    \"have shapes {} and {}\".format(x.shape, y.shape))\n",
      "ValueError: x and y must have same first dimension, but have shapes (401,) and (3, 401)\n"
     ]
    }
   ],
   "source": [
    "odmrlogic.start_odmr_scan()\n",
    "time.sleep(3)\n",
    "odmrlogic.stop_odmr_scan()\n",
    "freq_vals = odmrlogic.odmr_plot_x\n",
    "sig_vals = odmrlogic.odmr_plot_y\n",
    "\n"
   ]
  },
  {
   "cell_type": "code",
   "execution_count": 46,
   "metadata": {},
   "outputs": [
    {
     "data": {
      "text/plain": [
       "[<matplotlib.lines.Line2D object at 0x0000021D886D94A8>]"
      ]
     },
     "execution_count": 46,
     "metadata": {},
     "output_type": "execute_result"
    }
   ],
   "source": [
    "import pylab as pl\n",
    "pl.plot(odmrlogic.odmr_plot_y[1])"
   ]
  },
  {
   "cell_type": "code",
   "execution_count": 30,
   "metadata": {},
   "outputs": [
    {
     "name": "stderr",
     "output_type": "stream",
     "text": [
      "Traceback (most recent call last):\n",
      "  File \"D:\\LQNO_QUDI\\LQNO_NV_exp\\logic\\jupyterkernel\\qzmqkernel.py\", line 679, in run_code\n",
      "    exec(code_obj, self.user_global_ns, self.user_ns)\n",
      "  File \"<ipython-input-30-a0971f40090b>\", line 21, in <module>\n",
      "    savelogic.save_data(save_data, filepath, filelabel=filelabel, as_text=True)\n",
      "TypeError: save_data() got an unexpected keyword argument 'as_text'\n"
     ]
    }
   ],
   "source": [
    "for ii, freq in enumerate(freq_list):\n",
    "    save_data = {}\n",
    "   #myscmagnet.move_abs({'rho': mag_list[ii]})\n",
    "    #while magnet_logic._check_is_moving():\n",
    "     #   time.sleep(1)\n",
    "    #confocal.refocus_clicked()\n",
    "    #time.sleep(30)\n",
    "    # odmrlogic.perform_odmr_measurement(freq, freq_step, freq + freq_range, power, runtime, save_after_meas=False)\n",
    "    odmrlogic.mw_start = freq\n",
    "    odmrlogic.mw_step = freq_step\n",
    "    odmrlogic.mw_stop = freq + freq_range\n",
    "    odmrlogic.mw_power = power\n",
    "    odmrlogic.run_time = runtime\n",
    "    odmrlogic.start_odmr_scan()\n",
    "    freq_vals = odmrlogic.odmr_plot_x\n",
    "    sig_vals = odmrlogic.odmr_plot_y\n",
    "    save_data['freq_vals'] = freq_vals\n",
    "    save_data['sig_vals'] = sig_vals\n",
    "    filepath = savelogic.get_path_for_module(module_name='ODMR')\n",
    "    filelabel = 'ODMR_FREQ_SWEEP_' + str(freq)\n",
    "    savelogic.save_data(save_data, filepath, filelabel=filelabel, as_text=True)\n",
    "    \n",
    "    \n",
    "    \n",
    "    "
   ]
  },
  {
   "cell_type": "code",
   "execution_count": 31,
   "metadata": {},
   "outputs": [
    {
     "name": "stderr",
     "output_type": "stream",
     "text": [
      "Traceback (most recent call last):\n",
      "  File \"D:\\LQNO_QUDI\\LQNO_NV_exp\\logic\\jupyterkernel\\qzmqkernel.py\", line 679, in run_code\n",
      "    exec(code_obj, self.user_global_ns, self.user_ns)\n",
      "  File \"<ipython-input-31-29a9e86c5ef3>\", line 2, in <module>\n",
      "    freq_vals = odmrlogic.ODMR_\n",
      "AttributeError: 'ODMRLogic' object has no attribute 'ODMR_'\n"
     ]
    }
   ],
   "source": [
    "odmrlogic.start_odmr_scan()\n",
    "freq_vals = odmrlogic.ODMR_"
   ]
  },
  {
   "cell_type": "code",
   "execution_count": null,
   "metadata": {},
   "outputs": [],
   "source": [
    "freq_start = 7.45 * 10**(9)\n",
    "freq_step = 2 * 10**(6)\n",
    "freq_stop = 7.55 * 10**(9)\n",
    "power = -60\n",
    "runtime = 60.0\n",
    "name_tag = 'frequency_sweep'"
   ]
  },
  {
   "cell_type": "code",
   "execution_count": null,
   "metadata": {},
   "outputs": [],
   "source": [
    "save_data = {}\n",
    "confocal.refocus_clicked()\n",
    "time.sleep(30)\n",
    "# odmrlogic.perform_odmr_measurement(freq, freq_step, freq + freq_range, power, runtime, save_after_meas=False)\n",
    "odmrlogic.mw_start = freq_start\n",
    "odmrlogic.mw_step = freq_step\n",
    "odmrlogic.mw_stop = freq_stop\n",
    "odmrlogic.mw_power = power\n",
    "odmrlogic.run_time = runtime\n",
    "odmrlogic.start_odmr_scan()\n",
    "while odmrlogic.getState() != 'idle':\n",
    "    time.sleep(1)\n",
    "freq_vals = odmrlogic.ODMR_plot_x\n",
    "sig_vals = odmrlogic.ODMR_plot_y\n",
    "save_data['freq_vals'] = freq_vals\n",
    "save_data['sig_vals'] = sig_vals\n",
    "filepath = savelogic.get_path_for_module(module_name='ODMR')\n",
    "filelabel = 'ODMR_FREQ_SWEEP_1'\n",
    "savelogic.save_data(save_data, filepath, filelabel=filelabel, as_text=True)"
   ]
  },
  {
   "cell_type": "code",
   "execution_count": null,
   "metadata": {},
   "outputs": [],
   "source": [
    "odmrlogic.ODMR_plot_x"
   ]
  },
  {
   "cell_type": "code",
   "execution_count": null,
   "metadata": {},
   "outputs": [],
   "source": [
    "x = odmrlogic.ODMR_plot_x\n",
    "y = odmrlogic.ODMR_plot_y"
   ]
  },
  {
   "cell_type": "code",
   "execution_count": null,
   "metadata": {},
   "outputs": [],
   "source": [
    "from matplotlib import pyplot"
   ]
  },
  {
   "cell_type": "code",
   "execution_count": null,
   "metadata": {},
   "outputs": [],
   "source": [
    "pyplot.plot(x,y)\n",
    "pyplot.show()"
   ]
  },
  {
   "cell_type": "code",
   "execution_count": null,
   "metadata": {},
   "outputs": [],
   "source": [
    "result = fitlogic.make_lorentzian_fit(axis=x, data=y)"
   ]
  },
  {
   "cell_type": "code",
   "execution_count": null,
   "metadata": {},
   "outputs": [],
   "source": [
    "result.params.pretty_print()"
   ]
  },
  {
   "cell_type": "code",
   "execution_count": null,
   "metadata": {},
   "outputs": [],
   "source": [
    "myscmagnet.move_abs({'rho':0.078})"
   ]
  },
  {
   "cell_type": "code",
   "execution_count": null,
   "metadata": {},
   "outputs": [],
   "source": [
    "    def refocus_clicked(self):\n",
    "        \"\"\" Start optimize position. \"\"\"\n",
    "        self.disable_scan_actions()\n",
    "        # Get the current crosshair position to send to optimizer\n",
    "        crosshair_pos = self._scanning_logic.get_position()\n",
    "        self.sigStartOptimizer.emit(crosshair_pos, 'confocalgui')"
   ]
  },
  {
   "cell_type": "code",
   "execution_count": null,
   "metadata": {},
   "outputs": [],
   "source": [
    "confocal.refocus_clicked()"
   ]
  },
  {
   "cell_type": "code",
   "execution_count": null,
   "metadata": {},
   "outputs": [],
   "source": [
    "meas_param = {}\n",
    "meas_param['ODMR frequency start (Hz)'] = [2]\n",
    "meas_param['ODMR frequency step (Hz)'] = [3]\n",
    "meas_param['ODMR frequency stop (Hz)'] = [4]\n",
    "meas_param['ODMR power (dBm)'] = [5]\n",
    "meas_param['ODMR run time (s)'] = [6]"
   ]
  },
  {
   "cell_type": "code",
   "execution_count": null,
   "metadata": {},
   "outputs": [],
   "source": [
    "filelabel = 'test'"
   ]
  },
  {
   "cell_type": "code",
   "execution_count": null,
   "metadata": {},
   "outputs": [],
   "source": [
    "filepath = savelogic.get_path_for_module(module_name='ODMR')\n",
    "savelogic.save_data(meas_param, filepath, filelabel=filelabel, as_text=True)"
   ]
  },
  {
   "cell_type": "code",
   "execution_count": null,
   "metadata": {},
   "outputs": [],
   "source": [
    "odmrlogic.mw_stop"
   ]
  },
  {
   "cell_type": "code",
   "execution_count": null,
   "metadata": {},
   "outputs": [],
   "source": [
    "odmrlogic.run_time, odmrlogic.mw_power, odmrlogic.mw_stop, odmrlogic.mw_step, odmrlogic.mw_start"
   ]
  },
  {
   "cell_type": "code",
   "execution_count": null,
   "metadata": {},
   "outputs": [],
   "source": [
    "test_x = [i for i in range(9)]\n",
    "test_y = [i**2 for i in test_x]"
   ]
  },
  {
   "cell_type": "code",
   "execution_count": null,
   "metadata": {},
   "outputs": [],
   "source": [
    "filepath = savelogic.get_path_for_module(module_name='ODMR')\n",
    "filelabel = 'ODMR_FREQ_SWEEP_'\n",
    "savelogic.save_data({'x': test_x}, filepath, filelabel=filelabel, as_text=True)"
   ]
  },
  {
   "cell_type": "code",
   "execution_count": null,
   "metadata": {},
   "outputs": [],
   "source": [
    "odmrlogic.ODMR_plot_y"
   ]
  },
  {
   "cell_type": "code",
   "execution_count": null,
   "metadata": {},
   "outputs": [],
   "source": [
    "confocal.refocus_clicked()\n",
    "while confocal.getState() != 'idle':\n",
    "    time.sleep(1)\n",
    "    print('wait until ready')"
   ]
  },
  {
   "cell_type": "code",
   "execution_count": null,
   "metadata": {},
   "outputs": [],
   "source": [
    "freq_step"
   ]
  },
  {
   "cell_type": "code",
   "execution_count": null,
   "metadata": {},
   "outputs": [],
   "source": []
  }
 ],
 "metadata": {
  "kernelspec": {
   "display_name": "Qudi",
   "language": "python",
   "name": "qudi"
  },
  "language_info": {
   "codemirror_mode": {
    "name": "ipython",
    "version": "3.6.5"
   },
   "file_extension": ".py",
   "mimetype": "text/x-python",
   "name": "python",
   "nbconvert_exporter": "python",
   "pygments_lexer": "ipython3",
   "version": "3.6.5"
  }
 },
 "nbformat": 4,
 "nbformat_minor": 1
}
